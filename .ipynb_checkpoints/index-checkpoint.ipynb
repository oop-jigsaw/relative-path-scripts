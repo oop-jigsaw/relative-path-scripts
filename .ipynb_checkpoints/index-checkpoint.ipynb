{
 "cells": [
  {
   "cell_type": "markdown",
   "id": "a01a4227-052b-4982-a157-432ba538f901",
   "metadata": {},
   "source": [
    "# Relative Paths Scripts"
   ]
  },
  {
   "cell_type": "markdown",
   "id": "a5f725f0-fc04-41f5-8d87-ac21ff59db8a",
   "metadata": {},
   "source": [
    "### Introduction"
   ]
  },
  {
   "cell_type": "markdown",
   "id": "5bd06ba1-cb4f-46ae-bc2d-851b4bfed633",
   "metadata": {},
   "source": [
    "In previous lessons, we saw how when we use relative paths in a Python codebase, python is looking relative to the place that we are kicking off the Python script."
   ]
  },
  {
   "cell_type": "markdown",
   "id": "14130763-243c-42c0-a1cb-585ab225755e",
   "metadata": {},
   "source": [
    "So for example, below if our `src/index.py` file has the following code:"
   ]
  },
  {
   "cell_type": "markdown",
   "id": "2f86563c-7bb9-48fd-9ace-892959e77b4d",
   "metadata": {},
   "source": [
    "```python\n",
    "songs_url = \"./data/top-500-songs.txt\"\n",
    "songs_df = pd.read_csv(songs_url)\n",
    "```"
   ]
  },
  {
   "cell_type": "markdown",
   "id": "78151218-9b61-43a6-a0d6-33d2cc88d7e8",
   "metadata": {},
   "source": [
    "Then this means that the `codebase` should have subfolder of `/data`.  This is because we are kicking off our src/index.py script from the `codebase` folder. "
   ]
  },
  {
   "cell_type": "markdown",
   "id": "bffa3a7b-fb48-4024-9c29-8aa2b2020c87",
   "metadata": {},
   "source": [
    "<img src=\"./results.png\">"
   ]
  },
  {
   "cell_type": "markdown",
   "id": "35a0a75f-0bca-401b-b56b-e0cfe07ef3cb",
   "metadata": {},
   "source": [
    "As we'll see in this lesson, we reference scripts in a similar way -- that is we reference scripts relative to the folder we are in when we type in `python` or `python3`."
   ]
  },
  {
   "cell_type": "markdown",
   "id": "d1a09dbe-8899-4ad1-b16e-bc4e39866de4",
   "metadata": {},
   "source": [
    "### Viewing our codebase"
   ]
  },
  {
   "cell_type": "markdown",
   "id": "4545215b-1234-48f6-b3a0-0a8c1204c63f",
   "metadata": {},
   "source": [
    "Now let's take a look at the structure of our codebase."
   ]
  },
  {
   "cell_type": "markdown",
   "id": "78cd4de6-555c-4c31-b79f-fe7c8349ded5",
   "metadata": {},
   "source": [
    "```\n",
    "rolling_stones\n",
    "├── console.py\n",
    "├── data\n",
    "│   ├── data.csv\n",
    "│   ├── top-500-songs.txt\n",
    "│   ├── track_data.csv\n",
    "│   └── track_data.json\n",
    "└── src\n",
    "    ├── album.py\n",
    "    ├── song.py\n",
    "    └── top_songs.py\n",
    "```"
   ]
  },
  {
   "cell_type": "markdown",
   "id": "5c8ea900-56eb-4485-8162-2f4249143c61",
   "metadata": {},
   "source": [
    "We can see that we have the data in our data folder and our `src` folder has the our code.  We will kick off, or interact with our code through the `console.py` file."
   ]
  },
  {
   "cell_type": "markdown",
   "id": "1f6ca21f-daa3-4dc8-b2a6-348fbd84142c",
   "metadata": {},
   "source": [
    "For example, if we want to view our data, we can run the following:"
   ]
  },
  {
   "cell_type": "markdown",
   "id": "caadffe2-96af-4318-bf9e-ed6bcc5c76e5",
   "metadata": {},
   "source": [
    "<img src=\"./show-songs.png\" width=\"100%\">"
   ]
  },
  {
   "cell_type": "markdown",
   "id": "505c6aae-292c-4ae4-ba67-1616d4819364",
   "metadata": {},
   "source": [
    "This works because when we run `python3 -i console.py`, this runs the `console.py` file, which reads data from our data folder, and ultimately assigns a list of song dictionaries to the variable `songs`.  So when we run `songs[:2]` this is what we are viewing."
   ]
  },
  {
   "cell_type": "markdown",
   "id": "c7fc67fe-c7ea-4657-b0e1-5442ac0b0cc5",
   "metadata": {},
   "source": [
    "However, the rest of our codebase, which is located in the `src` folder is currently not available in our `console.py` file.  Let's fix that."
   ]
  },
  {
   "cell_type": "markdown",
   "id": "199200bd-93cc-44a4-86a1-ff159d6281fb",
   "metadata": {},
   "source": [
    "### Connecting our codebase"
   ]
  },
  {
   "cell_type": "markdown",
   "id": "2ab95f23-3478-480e-9266-01b126a5af65",
   "metadata": {},
   "source": [
    "We can connect the rest of our codebase with something like the following:"
   ]
  },
  {
   "cell_type": "markdown",
   "id": "d4139426-eac6-42d1-ad51-77701b4ea5d9",
   "metadata": {},
   "source": [
    "```python\n",
    "# console.py\n",
    "import pandas as pd\n",
    "from src.song import find_song\n",
    "```"
   ]
  },
  {
   "cell_type": "markdown",
   "id": "81cfdbbb-1cdc-463a-b88f-bcda90c49933",
   "metadata": {},
   "source": [
    "So this gives us access to the find_song function in the `src/song.py`.  Let's take another look at the code above.  We can see that to get to a file in a folder, we need to specify the  path to the file relative to the directory we are in when we kick off our code.\n",
    "\n",
    "So in this case, we will run `python3 console.py` from the `rolling_stones` folder.  And because of that, we need to tell Python how to find the Python script from that `rolling_stones` folder.  We do so by first going to the `src` directory and then from there specifying the `song` file, were we can load the `find_song` function."
   ]
  },
  {
   "cell_type": "markdown",
   "id": "09caeaed-2b1d-4bae-a555-93a7a3e1a43d",
   "metadata": {},
   "source": [
    "So now when we run `python3 -i console.py`, we have access to that function."
   ]
  },
  {
   "cell_type": "markdown",
   "id": "a7999aa0-7048-4133-b1c4-48e2d6d57c6f",
   "metadata": {},
   "source": [
    "```python\n",
    "find_song(songs, 'Satisfaction')\n",
    "# {'rank': 2, 'song': 'Satisfaction', \n",
    "# 'artist': 'The Rolling Stones', 'year': 1965}\n",
    "```"
   ]
  },
  {
   "cell_type": "markdown",
   "id": "537f0b2f-782f-4eed-b7e9-3ad1d6aa5784",
   "metadata": {},
   "source": [
    "### Your turn"
   ]
  },
  {
   "cell_type": "markdown",
   "id": "409525d9-7174-4329-8048-800f6165bdef",
   "metadata": {},
   "source": [
    "Try loading the `tracks` function from the `albums` file.  Then pass in the first `album_track` from the list of `albums_tracks`.\n",
    "\n",
    "Then called the `tracks` function."
   ]
  },
  {
   "cell_type": "markdown",
   "id": "810550a7-69c9-4bc2-bd39-92da6c65285b",
   "metadata": {},
   "source": [
    "If it works you should see something like the following."
   ]
  },
  {
   "cell_type": "markdown",
   "id": "0159cbc7-b5e2-4686-9b09-9d84eeda1049",
   "metadata": {},
   "source": [
    "```python\n",
    "[\"Sgt. Pepper's Lonely Hearts Club Band\", 'With A Little Help From My Friends', 'Lucy In The Sky With Diamonds', 'Getting Better', 'Fixing A Hole', \"She's Leaving Home\", 'Being For The Benefit Of Mr. Kite!', 'Within You Without You', \"When I'm Sixty-Four\", 'Lovely Rita', 'Good Morning Good Morning', \"Sgt. Pepper's Lonely Hearts Club Band (Reprise)\", 'A Day In The Life', \"Sgt. Pepper's Lonely Hearts Club Band\", 'With A Little Help From My Friends', 'Lucy In The Sky With Diamonds', 'Getting Better', 'Fixing A Hole', \"She's Leaving Home\", 'Being For The Benefit Of Mr. Kite!', 'Within You Without You', \"When I'm Sixty-Four\", 'Lovely Rita', 'Good Morning Good Morning', \"Sgt. Pepper's Lonely Hearts Club Band (Reprise)\", 'A Day In The Life', 'Strawberry Fields Forever', 'Strawberry Fields Forever', 'Strawberry Fields Forever', 'Penny Lane', 'Penny Lane']\n",
    "```"
   ]
  },
  {
   "cell_type": "markdown",
   "id": "545df8f2-a9f5-4cfe-b271-9a2e57160031",
   "metadata": {},
   "source": [
    "### Summary"
   ]
  },
  {
   "cell_type": "code",
   "execution_count": null,
   "id": "2fd09472-70d0-4dfe-be38-898b11805204",
   "metadata": {},
   "outputs": [],
   "source": []
  }
 ],
 "metadata": {
  "kernelspec": {
   "display_name": "Python 3 (ipykernel)",
   "language": "python",
   "name": "python3"
  },
  "language_info": {
   "codemirror_mode": {
    "name": "ipython",
    "version": 3
   },
   "file_extension": ".py",
   "mimetype": "text/x-python",
   "name": "python",
   "nbconvert_exporter": "python",
   "pygments_lexer": "ipython3",
   "version": "3.9.10"
  }
 },
 "nbformat": 4,
 "nbformat_minor": 5
}
